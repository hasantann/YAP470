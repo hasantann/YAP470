{
 "cells": [
  {
   "cell_type": "markdown",
   "metadata": {},
   "source": [
    "Name: Irmak Ercevik\n",
    "\n",
    "ID: 123456789\n",
    "\n",
    "Course: BIL570 /BIL470"
   ]
  },
  {
   "cell_type": "code",
   "execution_count": 4,
   "metadata": {},
   "outputs": [],
   "source": [
    "import pandas as pd\n",
    "import numpy as np\n",
    "import matplotlib.pyplot as plt\n",
    "import seaborn as sns\n",
    "from sklearn.model_selection import train_test_split\n",
    "from dt import DecisionTreeClassifier"
   ]
  },
  {
   "cell_type": "markdown",
   "metadata": {},
   "source": [
    "# Exploratory Data Analysis (EDA)"
   ]
  },
  {
   "cell_type": "markdown",
   "metadata": {},
   "source": [
    "# Train the classifier"
   ]
  },
  {
   "cell_type": "code",
   "execution_count": 66,
   "metadata": {},
   "outputs": [],
   "source": [
    "clf = DecisionTreeClassifier(max_depth=5)"
   ]
  },
  {
   "cell_type": "markdown",
   "metadata": {},
   "source": [
    "Split dataset to train and test"
   ]
  },
  {
   "cell_type": "code",
   "execution_count": 67,
   "metadata": {},
   "outputs": [],
   "source": [
    "X=iris.values.tolist();\n",
    "y=[];\n",
    "for row in X:\n",
    "    y.append(int(row[4]));\n",
    "    del row[4];\n",
    "X=pd.Series(X);\n",
    "y=pd.Series(y);\n",
    "X_train, X_test, y_train, y_test = train_test_split(X, y, test_size=0.2, shuffle=True);\n",
    "\n",
    "X_train_list=X_train.values.tolist();\n",
    "y_train_list=y_train.values.tolist();\n",
    "X_test_list=X_test.values.tolist();\n",
    "y_test_list=y_test.values.tolist();"
   ]
  },
  {
   "cell_type": "markdown",
   "metadata": {},
   "source": [
    "### Train The Classifier"
   ]
  },
  {
   "cell_type": "code",
   "execution_count": 68,
   "metadata": {},
   "outputs": [],
   "source": [
    "clf.fit(X_train_list,y_train_list);"
   ]
  },
  {
   "cell_type": "markdown",
   "metadata": {},
   "source": [
    "### Predict Class of Test values"
   ]
  },
  {
   "cell_type": "code",
   "execution_count": 69,
   "metadata": {},
   "outputs": [
    {
     "name": "stdout",
     "output_type": "stream",
     "text": [
      "Test Features Expected Classification\n",
      "[2, 0, 0, 2, 1, 0, 0, 0, 0, 0, 1, 0, 1, 1, 1, 0, 2, 1, 2, 2, 2, 2, 0, 0, 2, 0, 1, 2, 0, 2]\n",
      "Prediction\n",
      "[2, 0, 0, 2, 1, 0, 0, 0, 0, 0, 1, 0, 1, 1, 1, 0, 2, 1, 2, 2, 2, 2, 0, 0, 2, 0, 1, 1, 0, 1]\n",
      "Train Features Expected Classification\n",
      "[1, 2, 2, 1, 0, 0, 1, 1, 2, 2, 1, 0, 1, 0, 0, 2, 0, 0, 1, 0, 1, 2, 0, 0, 0, 0, 1, 2, 2, 2, 0, 2, 1, 2, 2, 2, 2, 2, 2, 1, 2, 2, 0, 1, 0, 1, 1, 1, 1, 0, 2, 2, 2, 0, 1, 0, 1, 1, 1, 0, 2, 2, 0, 1, 2, 0, 1, 1, 1, 0, 0, 2, 1, 2, 0, 2, 0, 2, 2, 2, 0, 0, 2, 1, 2, 1, 0, 2, 0, 1, 1, 2, 0, 1, 1, 1, 0, 2, 1, 1, 1, 1, 2, 1, 1, 1, 2, 0, 2, 0, 1, 0, 0, 0, 1, 2, 0, 2, 1, 1]\n",
      "Prediction\n",
      "[1, 2, 2, 1, 0, 0, 1, 1, 2, 2, 1, 0, 1, 0, 0, 2, 0, 0, 1, 0, 1, 2, 0, 0, 0, 0, 1, 2, 2, 2, 0, 2, 1, 2, 2, 2, 2, 2, 2, 1, 2, 2, 0, 1, 0, 1, 1, 1, 1, 0, 2, 2, 2, 0, 1, 0, 1, 1, 1, 0, 2, 2, 0, 1, 2, 0, 1, 1, 1, 0, 0, 2, 1, 2, 0, 2, 0, 2, 2, 2, 0, 0, 2, 1, 2, 1, 0, 2, 0, 1, 1, 2, 0, 1, 1, 1, 0, 2, 1, 1, 1, 1, 2, 1, 1, 1, 2, 0, 2, 0, 1, 0, 0, 0, 1, 2, 0, 2, 1, 1]\n"
     ]
    }
   ],
   "source": [
    "yhat = clf.predict(X_test_list)\n",
    "print(\"Test Features Expected Classification\")\n",
    "print(y_test_list)\n",
    "print(\"Prediction\")\n",
    "print(yhat);\n",
    "xhat = clf.predict(X_train_list)\n",
    "print(\"Train Features Expected Classification\")\n",
    "print(y_train_list)\n",
    "print(\"Prediction\")\n",
    "print(xhat);"
   ]
  },
  {
   "cell_type": "markdown",
   "metadata": {},
   "source": [
    "# Results"
   ]
  },
  {
   "cell_type": "markdown",
   "metadata": {},
   "source": [
    "### Confusion Matrix of Test"
   ]
  },
  {
   "cell_type": "markdown",
   "metadata": {},
   "source": [
    "### Confusion Matrix of Train"
   ]
  },
  {
   "cell_type": "markdown",
   "metadata": {},
   "source": [
    "### F1-Score"
   ]
  },
  {
   "cell_type": "markdown",
   "metadata": {},
   "source": [
    "### Accuracy"
   ]
  },
  {
   "cell_type": "markdown",
   "metadata": {},
   "source": [
    "### Precision"
   ]
  },
  {
   "cell_type": "markdown",
   "metadata": {},
   "source": [
    "### Recal"
   ]
  },
  {
   "cell_type": "markdown",
   "metadata": {},
   "source": [
    "### Plot of ROC Curve (Test/Train) and Value of AUC (Test/Train)"
   ]
  }
 ],
 "metadata": {
  "celltoolbar": "Raw Cell Format",
  "interpreter": {
   "hash": "772bdfc5039a7b52748c774ea658e94c59c1cdbaa577ae0ba0d8baeda1aa2344"
  },
  "kernelspec": {
   "display_name": "Python 3 (ipykernel)",
   "language": "python",
   "name": "python3"
  },
  "language_info": {
   "codemirror_mode": {
    "name": "ipython",
    "version": 3
   },
   "file_extension": ".py",
   "mimetype": "text/x-python",
   "name": "python",
   "nbconvert_exporter": "python",
   "pygments_lexer": "ipython3",
   "version": "3.8.8"
  },
  "toc": {
   "base_numbering": 1,
   "nav_menu": {},
   "number_sections": true,
   "sideBar": true,
   "skip_h1_title": false,
   "title_cell": "Table of Contents",
   "title_sidebar": "Contents",
   "toc_cell": false,
   "toc_position": {},
   "toc_section_display": true,
   "toc_window_display": false
  },
  "varInspector": {
   "cols": {
    "lenName": 16,
    "lenType": 16,
    "lenVar": 40
   },
   "kernels_config": {
    "python": {
     "delete_cmd_postfix": "",
     "delete_cmd_prefix": "del ",
     "library": "var_list.py",
     "varRefreshCmd": "print(var_dic_list())"
    },
    "r": {
     "delete_cmd_postfix": ") ",
     "delete_cmd_prefix": "rm(",
     "library": "var_list.r",
     "varRefreshCmd": "cat(var_dic_list()) "
    }
   },
   "types_to_exclude": [
    "module",
    "function",
    "builtin_function_or_method",
    "instance",
    "_Feature"
   ],
   "window_display": false
  }
 },
 "nbformat": 4,
 "nbformat_minor": 2
}
