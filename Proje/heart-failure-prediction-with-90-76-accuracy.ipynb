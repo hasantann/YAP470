{
 "cells": [
  {
   "cell_type": "code",
   "execution_count": 1,
   "id": "c2f6db00",
   "metadata": {
    "collapsed": false,
    "execution": {
     "iopub.execute_input": "2023-04-14T17:02:10.877119Z",
     "iopub.status.busy": "2023-04-14T17:02:10.876691Z",
     "iopub.status.idle": "2023-04-14T17:02:10.888115Z",
     "shell.execute_reply": "2023-04-14T17:02:10.887183Z"
    },
    "jupyter": {
     "outputs_hidden": false
    },
    "papermill": {
     "duration": 0.024412,
     "end_time": "2023-04-14T17:02:10.890455",
     "exception": false,
     "start_time": "2023-04-14T17:02:10.866043",
     "status": "completed"
    },
    "tags": []
   },
   "outputs": [],
   "source": [
    "import pandas as pd\n",
    "import numpy as np"
   ]
  },
  {
   "cell_type": "code",
   "execution_count": 2,
   "id": "4c1bfe29",
   "metadata": {
    "execution": {
     "iopub.execute_input": "2023-04-14T17:02:10.908213Z",
     "iopub.status.busy": "2023-04-14T17:02:10.907890Z",
     "iopub.status.idle": "2023-04-14T17:02:10.919680Z",
     "shell.execute_reply": "2023-04-14T17:02:10.918387Z"
    },
    "papermill": {
     "duration": 0.023247,
     "end_time": "2023-04-14T17:02:10.921955",
     "exception": false,
     "start_time": "2023-04-14T17:02:10.898708",
     "status": "completed"
    },
    "tags": []
   },
   "outputs": [
    {
     "name": "stdout",
     "output_type": "stream",
     "text": [
      "/kaggle/input/heart-failure-prediction/heart.csv\n"
     ]
    }
   ],
   "source": [
    "import os\n",
    "for dirname, _, filenames in os.walk('/kaggle/input'):\n",
    "    for filename in filenames:\n",
    "        print(os.path.join(dirname, filename))"
   ]
  },
  {
   "cell_type": "markdown",
   "id": "a273496b",
   "metadata": {
    "papermill": {
     "duration": 0.009019,
     "end_time": "2023-04-14T17:02:10.939593",
     "exception": false,
     "start_time": "2023-04-14T17:02:10.930574",
     "status": "completed"
    },
    "tags": []
   },
   "source": [
    "# Context\n",
    "* Cardiovascular diseases (CVDs) are the number 1 cause of death globally, taking an estimated 17.9 million lives each year, which accounts for 31% of all deaths worldwide. Four out of 5CVD deaths are due to heart attacks and strokes, and one-third of these deaths occur prematurely in people under 70 years of age. Heart failure is a common event caused by CVDs and this dataset contains 11 features that can be used to predict a possible heart disease.\n",
    "\n",
    "* People with cardiovascular disease or who are at high cardiovascular risk (due to the presence of one or more risk factors such as hypertension, diabetes, hyperlipidaemia or already established disease) need early detection and management wherein a machine learning model can be of great help."
   ]
  },
  {
   "cell_type": "markdown",
   "id": "6a5fbd6c",
   "metadata": {
    "papermill": {
     "duration": 0.010048,
     "end_time": "2023-04-14T17:02:10.961869",
     "exception": false,
     "start_time": "2023-04-14T17:02:10.951821",
     "status": "completed"
    },
    "tags": []
   },
   "source": [
    "# Data input"
   ]
  },
  {
   "cell_type": "code",
   "execution_count": 3,
   "id": "ba7e3740",
   "metadata": {
    "execution": {
     "iopub.execute_input": "2023-04-14T17:02:10.982917Z",
     "iopub.status.busy": "2023-04-14T17:02:10.982573Z",
     "iopub.status.idle": "2023-04-14T17:02:11.001506Z",
     "shell.execute_reply": "2023-04-14T17:02:11.000553Z"
    },
    "papermill": {
     "duration": 0.032002,
     "end_time": "2023-04-14T17:02:11.004251",
     "exception": false,
     "start_time": "2023-04-14T17:02:10.972249",
     "status": "completed"
    },
    "tags": []
   },
   "outputs": [],
   "source": [
    "df = pd.read_csv('/kaggle/input/heart-failure-prediction/heart.csv')"
   ]
  },
  {
   "cell_type": "code",
   "execution_count": 4,
   "id": "866e8fd8",
   "metadata": {
    "execution": {
     "iopub.execute_input": "2023-04-14T17:02:11.025982Z",
     "iopub.status.busy": "2023-04-14T17:02:11.025586Z",
     "iopub.status.idle": "2023-04-14T17:02:11.054027Z",
     "shell.execute_reply": "2023-04-14T17:02:11.053040Z"
    },
    "papermill": {
     "duration": 0.041336,
     "end_time": "2023-04-14T17:02:11.056509",
     "exception": false,
     "start_time": "2023-04-14T17:02:11.015173",
     "status": "completed"
    },
    "tags": []
   },
   "outputs": [
    {
     "data": {
      "text/html": [
       "<div>\n",
       "<style scoped>\n",
       "    .dataframe tbody tr th:only-of-type {\n",
       "        vertical-align: middle;\n",
       "    }\n",
       "\n",
       "    .dataframe tbody tr th {\n",
       "        vertical-align: top;\n",
       "    }\n",
       "\n",
       "    .dataframe thead th {\n",
       "        text-align: right;\n",
       "    }\n",
       "</style>\n",
       "<table border=\"1\" class=\"dataframe\">\n",
       "  <thead>\n",
       "    <tr style=\"text-align: right;\">\n",
       "      <th></th>\n",
       "      <th>Age</th>\n",
       "      <th>Sex</th>\n",
       "      <th>ChestPainType</th>\n",
       "      <th>RestingBP</th>\n",
       "      <th>Cholesterol</th>\n",
       "      <th>FastingBS</th>\n",
       "      <th>RestingECG</th>\n",
       "      <th>MaxHR</th>\n",
       "      <th>ExerciseAngina</th>\n",
       "      <th>Oldpeak</th>\n",
       "      <th>ST_Slope</th>\n",
       "      <th>HeartDisease</th>\n",
       "    </tr>\n",
       "  </thead>\n",
       "  <tbody>\n",
       "    <tr>\n",
       "      <th>0</th>\n",
       "      <td>40</td>\n",
       "      <td>M</td>\n",
       "      <td>ATA</td>\n",
       "      <td>140</td>\n",
       "      <td>289</td>\n",
       "      <td>0</td>\n",
       "      <td>Normal</td>\n",
       "      <td>172</td>\n",
       "      <td>N</td>\n",
       "      <td>0.0</td>\n",
       "      <td>Up</td>\n",
       "      <td>0</td>\n",
       "    </tr>\n",
       "    <tr>\n",
       "      <th>1</th>\n",
       "      <td>49</td>\n",
       "      <td>F</td>\n",
       "      <td>NAP</td>\n",
       "      <td>160</td>\n",
       "      <td>180</td>\n",
       "      <td>0</td>\n",
       "      <td>Normal</td>\n",
       "      <td>156</td>\n",
       "      <td>N</td>\n",
       "      <td>1.0</td>\n",
       "      <td>Flat</td>\n",
       "      <td>1</td>\n",
       "    </tr>\n",
       "    <tr>\n",
       "      <th>2</th>\n",
       "      <td>37</td>\n",
       "      <td>M</td>\n",
       "      <td>ATA</td>\n",
       "      <td>130</td>\n",
       "      <td>283</td>\n",
       "      <td>0</td>\n",
       "      <td>ST</td>\n",
       "      <td>98</td>\n",
       "      <td>N</td>\n",
       "      <td>0.0</td>\n",
       "      <td>Up</td>\n",
       "      <td>0</td>\n",
       "    </tr>\n",
       "    <tr>\n",
       "      <th>3</th>\n",
       "      <td>48</td>\n",
       "      <td>F</td>\n",
       "      <td>ASY</td>\n",
       "      <td>138</td>\n",
       "      <td>214</td>\n",
       "      <td>0</td>\n",
       "      <td>Normal</td>\n",
       "      <td>108</td>\n",
       "      <td>Y</td>\n",
       "      <td>1.5</td>\n",
       "      <td>Flat</td>\n",
       "      <td>1</td>\n",
       "    </tr>\n",
       "    <tr>\n",
       "      <th>4</th>\n",
       "      <td>54</td>\n",
       "      <td>M</td>\n",
       "      <td>NAP</td>\n",
       "      <td>150</td>\n",
       "      <td>195</td>\n",
       "      <td>0</td>\n",
       "      <td>Normal</td>\n",
       "      <td>122</td>\n",
       "      <td>N</td>\n",
       "      <td>0.0</td>\n",
       "      <td>Up</td>\n",
       "      <td>0</td>\n",
       "    </tr>\n",
       "  </tbody>\n",
       "</table>\n",
       "</div>"
      ],
      "text/plain": [
       "   Age Sex ChestPainType  RestingBP  Cholesterol  FastingBS RestingECG  MaxHR  \\\n",
       "0   40   M           ATA        140          289          0     Normal    172   \n",
       "1   49   F           NAP        160          180          0     Normal    156   \n",
       "2   37   M           ATA        130          283          0         ST     98   \n",
       "3   48   F           ASY        138          214          0     Normal    108   \n",
       "4   54   M           NAP        150          195          0     Normal    122   \n",
       "\n",
       "  ExerciseAngina  Oldpeak ST_Slope  HeartDisease  \n",
       "0              N      0.0       Up             0  \n",
       "1              N      1.0     Flat             1  \n",
       "2              N      0.0       Up             0  \n",
       "3              Y      1.5     Flat             1  \n",
       "4              N      0.0       Up             0  "
      ]
     },
     "execution_count": 4,
     "metadata": {},
     "output_type": "execute_result"
    }
   ],
   "source": [
    "df.head() # data view"
   ]
  },
  {
   "cell_type": "markdown",
   "id": "683b013a",
   "metadata": {
    "papermill": {
     "duration": 0.008436,
     "end_time": "2023-04-14T17:02:11.073834",
     "exception": false,
     "start_time": "2023-04-14T17:02:11.065398",
     "status": "completed"
    },
    "tags": []
   },
   "source": [
    "# Attribute Information\n",
    "* Age: age of the patient [years]\n",
    "* Sex: sex of the patient [M: Male, F: Female]\n",
    "* ChestPainType: chest pain type [TA: Typical Angina, ATA: Atypical Angina, NAP: Non-Anginal Pain, ASY: Asymptomatic]\n",
    "* RestingBP: resting blood pressure [mm Hg]\n",
    "* Cholesterol: serum cholesterol [mm/dl]\n",
    "* FastingBS: fasting blood sugar [1: if FastingBS > 120 mg/dl, 0: otherwise]\n",
    "* RestingECG: resting electrocardiogram results [Normal: Normal, ST: having ST-T wave abnormality (T wave inversions and/or ST elevation or depression of > 0.05 mV), LVH: showing probable or definite left ventricular hypertrophy by Estes' criteria]\n",
    "* MaxHR: maximum heart rate achieved [Numeric value between 60 and 202]\n",
    "* ExerciseAngina: exercise-induced angina [Y: Yes, N: No]\n",
    "* Oldpeak: oldpeak = ST [Numeric value measured in depression]\n",
    "* ST_Slope: the slope of the peak exercise ST segment [Up: upsloping, Flat: flat, Down: downsloping]\n",
    "* HeartDisease: output class [1: heart disease, 0: Normal]"
   ]
  },
  {
   "cell_type": "code",
   "execution_count": 5,
   "id": "2a0e8836",
   "metadata": {
    "execution": {
     "iopub.execute_input": "2023-04-14T17:02:11.093913Z",
     "iopub.status.busy": "2023-04-14T17:02:11.093016Z",
     "iopub.status.idle": "2023-04-14T17:02:11.099462Z",
     "shell.execute_reply": "2023-04-14T17:02:11.098591Z"
    },
    "papermill": {
     "duration": 0.020424,
     "end_time": "2023-04-14T17:02:11.102691",
     "exception": false,
     "start_time": "2023-04-14T17:02:11.082267",
     "status": "completed"
    },
    "tags": []
   },
   "outputs": [
    {
     "data": {
      "text/plain": [
       "(918, 12)"
      ]
     },
     "execution_count": 5,
     "metadata": {},
     "output_type": "execute_result"
    }
   ],
   "source": [
    "df.shape # the shape of data is 918 rows and 12 columns"
   ]
  },
  {
   "cell_type": "code",
   "execution_count": 6,
   "id": "ba4ca9ca",
   "metadata": {
    "execution": {
     "iopub.execute_input": "2023-04-14T17:02:11.122920Z",
     "iopub.status.busy": "2023-04-14T17:02:11.122476Z",
     "iopub.status.idle": "2023-04-14T17:02:11.130233Z",
     "shell.execute_reply": "2023-04-14T17:02:11.129166Z"
    },
    "papermill": {
     "duration": 0.021191,
     "end_time": "2023-04-14T17:02:11.133019",
     "exception": false,
     "start_time": "2023-04-14T17:02:11.111828",
     "status": "completed"
    },
    "tags": []
   },
   "outputs": [
    {
     "data": {
      "text/plain": [
       "Age                 int64\n",
       "Sex                object\n",
       "ChestPainType      object\n",
       "RestingBP           int64\n",
       "Cholesterol         int64\n",
       "FastingBS           int64\n",
       "RestingECG         object\n",
       "MaxHR               int64\n",
       "ExerciseAngina     object\n",
       "Oldpeak           float64\n",
       "ST_Slope           object\n",
       "HeartDisease        int64\n",
       "dtype: object"
      ]
     },
     "execution_count": 6,
     "metadata": {},
     "output_type": "execute_result"
    }
   ],
   "source": [
    "df.dtypes # the type of data"
   ]
  },
  {
   "cell_type": "code",
   "execution_count": 7,
   "id": "650d295d",
   "metadata": {
    "execution": {
     "iopub.execute_input": "2023-04-14T17:02:11.152602Z",
     "iopub.status.busy": "2023-04-14T17:02:11.152213Z",
     "iopub.status.idle": "2023-04-14T17:02:11.167586Z",
     "shell.execute_reply": "2023-04-14T17:02:11.166151Z"
    },
    "papermill": {
     "duration": 0.028115,
     "end_time": "2023-04-14T17:02:11.170003",
     "exception": false,
     "start_time": "2023-04-14T17:02:11.141888",
     "status": "completed"
    },
    "tags": []
   },
   "outputs": [
    {
     "data": {
      "text/plain": [
       "Age                50\n",
       "Sex                 2\n",
       "ChestPainType       4\n",
       "RestingBP          67\n",
       "Cholesterol       222\n",
       "FastingBS           2\n",
       "RestingECG          3\n",
       "MaxHR             119\n",
       "ExerciseAngina      2\n",
       "Oldpeak            53\n",
       "ST_Slope            3\n",
       "HeartDisease        2\n",
       "dtype: int64"
      ]
     },
     "execution_count": 7,
     "metadata": {},
     "output_type": "execute_result"
    }
   ],
   "source": [
    "df.nunique() # every columns unique value number"
   ]
  },
  {
   "cell_type": "code",
   "execution_count": 8,
   "id": "efaa49e5",
   "metadata": {
    "execution": {
     "iopub.execute_input": "2023-04-14T17:02:11.190358Z",
     "iopub.status.busy": "2023-04-14T17:02:11.189238Z",
     "iopub.status.idle": "2023-04-14T17:02:11.200317Z",
     "shell.execute_reply": "2023-04-14T17:02:11.199128Z"
    },
    "papermill": {
     "duration": 0.023559,
     "end_time": "2023-04-14T17:02:11.202423",
     "exception": false,
     "start_time": "2023-04-14T17:02:11.178864",
     "status": "completed"
    },
    "tags": []
   },
   "outputs": [
    {
     "data": {
      "text/plain": [
       "array(['ATA', 'NAP', 'ASY', 'TA'], dtype=object)"
      ]
     },
     "execution_count": 8,
     "metadata": {},
     "output_type": "execute_result"
    }
   ],
   "source": [
    "df.ChestPainType.unique() # view unique value in ChestPainType"
   ]
  },
  {
   "cell_type": "code",
   "execution_count": 9,
   "id": "e66d242d",
   "metadata": {
    "execution": {
     "iopub.execute_input": "2023-04-14T17:02:11.222413Z",
     "iopub.status.busy": "2023-04-14T17:02:11.221859Z",
     "iopub.status.idle": "2023-04-14T17:02:11.231713Z",
     "shell.execute_reply": "2023-04-14T17:02:11.230182Z"
    },
    "papermill": {
     "duration": 0.022494,
     "end_time": "2023-04-14T17:02:11.234020",
     "exception": false,
     "start_time": "2023-04-14T17:02:11.211526",
     "status": "completed"
    },
    "tags": []
   },
   "outputs": [
    {
     "data": {
      "text/plain": [
       "Age               0\n",
       "Sex               0\n",
       "ChestPainType     0\n",
       "RestingBP         0\n",
       "Cholesterol       0\n",
       "FastingBS         0\n",
       "RestingECG        0\n",
       "MaxHR             0\n",
       "ExerciseAngina    0\n",
       "Oldpeak           0\n",
       "ST_Slope          0\n",
       "HeartDisease      0\n",
       "dtype: int64"
      ]
     },
     "execution_count": 9,
     "metadata": {},
     "output_type": "execute_result"
    }
   ],
   "source": [
    "df.isnull().sum() # judge null value"
   ]
  },
  {
   "cell_type": "code",
   "execution_count": 10,
   "id": "cbff1e86",
   "metadata": {
    "execution": {
     "iopub.execute_input": "2023-04-14T17:02:11.255855Z",
     "iopub.status.busy": "2023-04-14T17:02:11.255529Z",
     "iopub.status.idle": "2023-04-14T17:02:11.270880Z",
     "shell.execute_reply": "2023-04-14T17:02:11.268683Z"
    },
    "papermill": {
     "duration": 0.030327,
     "end_time": "2023-04-14T17:02:11.273642",
     "exception": false,
     "start_time": "2023-04-14T17:02:11.243315",
     "status": "completed"
    },
    "tags": []
   },
   "outputs": [],
   "source": [
    "# change to categorical number\n",
    "# Sex\n",
    "df.Sex.replace({'M':1,'F':0}, inplace = True)\n",
    "# ChestPainType\n",
    "df.ChestPainType.replace({'TA':0, 'ATA':1, 'NAP':2, 'ASY':3 }, inplace = True)\n",
    "# RestingECG \n",
    "df.RestingECG.replace({'Normal':0, 'ST':1, 'LVH':2}, inplace = True)\n",
    "# ExerciseAngina\n",
    "df.ExerciseAngina.replace({'N':0, 'Y':1}, inplace = True)\n",
    "# ST_Slope\n",
    "df.ST_Slope.replace({'Up':0, 'Flat':1, 'Down':2}, inplace = True)"
   ]
  },
  {
   "cell_type": "code",
   "execution_count": 11,
   "id": "b6fefed0",
   "metadata": {
    "execution": {
     "iopub.execute_input": "2023-04-14T17:02:11.294308Z",
     "iopub.status.busy": "2023-04-14T17:02:11.293870Z",
     "iopub.status.idle": "2023-04-14T17:02:11.308347Z",
     "shell.execute_reply": "2023-04-14T17:02:11.307444Z"
    },
    "papermill": {
     "duration": 0.027871,
     "end_time": "2023-04-14T17:02:11.310524",
     "exception": false,
     "start_time": "2023-04-14T17:02:11.282653",
     "status": "completed"
    },
    "tags": []
   },
   "outputs": [
    {
     "data": {
      "text/html": [
       "<div>\n",
       "<style scoped>\n",
       "    .dataframe tbody tr th:only-of-type {\n",
       "        vertical-align: middle;\n",
       "    }\n",
       "\n",
       "    .dataframe tbody tr th {\n",
       "        vertical-align: top;\n",
       "    }\n",
       "\n",
       "    .dataframe thead th {\n",
       "        text-align: right;\n",
       "    }\n",
       "</style>\n",
       "<table border=\"1\" class=\"dataframe\">\n",
       "  <thead>\n",
       "    <tr style=\"text-align: right;\">\n",
       "      <th></th>\n",
       "      <th>Age</th>\n",
       "      <th>Sex</th>\n",
       "      <th>ChestPainType</th>\n",
       "      <th>RestingBP</th>\n",
       "      <th>Cholesterol</th>\n",
       "      <th>FastingBS</th>\n",
       "      <th>RestingECG</th>\n",
       "      <th>MaxHR</th>\n",
       "      <th>ExerciseAngina</th>\n",
       "      <th>Oldpeak</th>\n",
       "      <th>ST_Slope</th>\n",
       "      <th>HeartDisease</th>\n",
       "    </tr>\n",
       "  </thead>\n",
       "  <tbody>\n",
       "    <tr>\n",
       "      <th>0</th>\n",
       "      <td>40</td>\n",
       "      <td>1</td>\n",
       "      <td>1</td>\n",
       "      <td>140</td>\n",
       "      <td>289</td>\n",
       "      <td>0</td>\n",
       "      <td>0</td>\n",
       "      <td>172</td>\n",
       "      <td>0</td>\n",
       "      <td>0.0</td>\n",
       "      <td>0</td>\n",
       "      <td>0</td>\n",
       "    </tr>\n",
       "    <tr>\n",
       "      <th>1</th>\n",
       "      <td>49</td>\n",
       "      <td>0</td>\n",
       "      <td>2</td>\n",
       "      <td>160</td>\n",
       "      <td>180</td>\n",
       "      <td>0</td>\n",
       "      <td>0</td>\n",
       "      <td>156</td>\n",
       "      <td>0</td>\n",
       "      <td>1.0</td>\n",
       "      <td>1</td>\n",
       "      <td>1</td>\n",
       "    </tr>\n",
       "    <tr>\n",
       "      <th>2</th>\n",
       "      <td>37</td>\n",
       "      <td>1</td>\n",
       "      <td>1</td>\n",
       "      <td>130</td>\n",
       "      <td>283</td>\n",
       "      <td>0</td>\n",
       "      <td>1</td>\n",
       "      <td>98</td>\n",
       "      <td>0</td>\n",
       "      <td>0.0</td>\n",
       "      <td>0</td>\n",
       "      <td>0</td>\n",
       "    </tr>\n",
       "    <tr>\n",
       "      <th>3</th>\n",
       "      <td>48</td>\n",
       "      <td>0</td>\n",
       "      <td>3</td>\n",
       "      <td>138</td>\n",
       "      <td>214</td>\n",
       "      <td>0</td>\n",
       "      <td>0</td>\n",
       "      <td>108</td>\n",
       "      <td>1</td>\n",
       "      <td>1.5</td>\n",
       "      <td>1</td>\n",
       "      <td>1</td>\n",
       "    </tr>\n",
       "    <tr>\n",
       "      <th>4</th>\n",
       "      <td>54</td>\n",
       "      <td>1</td>\n",
       "      <td>2</td>\n",
       "      <td>150</td>\n",
       "      <td>195</td>\n",
       "      <td>0</td>\n",
       "      <td>0</td>\n",
       "      <td>122</td>\n",
       "      <td>0</td>\n",
       "      <td>0.0</td>\n",
       "      <td>0</td>\n",
       "      <td>0</td>\n",
       "    </tr>\n",
       "  </tbody>\n",
       "</table>\n",
       "</div>"
      ],
      "text/plain": [
       "   Age  Sex  ChestPainType  RestingBP  Cholesterol  FastingBS  RestingECG  \\\n",
       "0   40    1              1        140          289          0           0   \n",
       "1   49    0              2        160          180          0           0   \n",
       "2   37    1              1        130          283          0           1   \n",
       "3   48    0              3        138          214          0           0   \n",
       "4   54    1              2        150          195          0           0   \n",
       "\n",
       "   MaxHR  ExerciseAngina  Oldpeak  ST_Slope  HeartDisease  \n",
       "0    172               0      0.0         0             0  \n",
       "1    156               0      1.0         1             1  \n",
       "2     98               0      0.0         0             0  \n",
       "3    108               1      1.5         1             1  \n",
       "4    122               0      0.0         0             0  "
      ]
     },
     "execution_count": 11,
     "metadata": {},
     "output_type": "execute_result"
    }
   ],
   "source": [
    "df.head()"
   ]
  },
  {
   "cell_type": "code",
   "execution_count": 12,
   "id": "7dbd87c5",
   "metadata": {
    "execution": {
     "iopub.execute_input": "2023-04-14T17:02:11.331431Z",
     "iopub.status.busy": "2023-04-14T17:02:11.331016Z",
     "iopub.status.idle": "2023-04-14T17:02:11.336572Z",
     "shell.execute_reply": "2023-04-14T17:02:11.335398Z"
    },
    "papermill": {
     "duration": 0.018441,
     "end_time": "2023-04-14T17:02:11.338496",
     "exception": false,
     "start_time": "2023-04-14T17:02:11.320055",
     "status": "completed"
    },
    "tags": []
   },
   "outputs": [],
   "source": [
    "# define categorical and continuous feature\n",
    "cat_col = ['Sex','ChestPainType','RestingECG','ExerciseAngina','ST_Slope'] # categorical features\n",
    "con_col = ['Age', 'RestingBP', 'Cholesterol', 'FastingBS', 'MaxHR', 'Oldpeak'] # continuous features"
   ]
  },
  {
   "cell_type": "code",
   "execution_count": 13,
   "id": "af15090e",
   "metadata": {
    "execution": {
     "iopub.execute_input": "2023-04-14T17:02:11.358863Z",
     "iopub.status.busy": "2023-04-14T17:02:11.358515Z",
     "iopub.status.idle": "2023-04-14T17:02:11.394997Z",
     "shell.execute_reply": "2023-04-14T17:02:11.393722Z"
    },
    "papermill": {
     "duration": 0.049687,
     "end_time": "2023-04-14T17:02:11.397573",
     "exception": false,
     "start_time": "2023-04-14T17:02:11.347886",
     "status": "completed"
    },
    "tags": []
   },
   "outputs": [
    {
     "data": {
      "text/html": [
       "<div>\n",
       "<style scoped>\n",
       "    .dataframe tbody tr th:only-of-type {\n",
       "        vertical-align: middle;\n",
       "    }\n",
       "\n",
       "    .dataframe tbody tr th {\n",
       "        vertical-align: top;\n",
       "    }\n",
       "\n",
       "    .dataframe thead th {\n",
       "        text-align: right;\n",
       "    }\n",
       "</style>\n",
       "<table border=\"1\" class=\"dataframe\">\n",
       "  <thead>\n",
       "    <tr style=\"text-align: right;\">\n",
       "      <th></th>\n",
       "      <th>Age</th>\n",
       "      <th>RestingBP</th>\n",
       "      <th>Cholesterol</th>\n",
       "      <th>FastingBS</th>\n",
       "      <th>MaxHR</th>\n",
       "      <th>Oldpeak</th>\n",
       "    </tr>\n",
       "  </thead>\n",
       "  <tbody>\n",
       "    <tr>\n",
       "      <th>count</th>\n",
       "      <td>918.00</td>\n",
       "      <td>918.00</td>\n",
       "      <td>918.00</td>\n",
       "      <td>918.00</td>\n",
       "      <td>918.00</td>\n",
       "      <td>918.00</td>\n",
       "    </tr>\n",
       "    <tr>\n",
       "      <th>mean</th>\n",
       "      <td>53.51</td>\n",
       "      <td>132.40</td>\n",
       "      <td>198.80</td>\n",
       "      <td>0.23</td>\n",
       "      <td>136.81</td>\n",
       "      <td>0.89</td>\n",
       "    </tr>\n",
       "    <tr>\n",
       "      <th>std</th>\n",
       "      <td>9.43</td>\n",
       "      <td>18.51</td>\n",
       "      <td>109.38</td>\n",
       "      <td>0.42</td>\n",
       "      <td>25.46</td>\n",
       "      <td>1.07</td>\n",
       "    </tr>\n",
       "    <tr>\n",
       "      <th>min</th>\n",
       "      <td>28.00</td>\n",
       "      <td>0.00</td>\n",
       "      <td>0.00</td>\n",
       "      <td>0.00</td>\n",
       "      <td>60.00</td>\n",
       "      <td>-2.60</td>\n",
       "    </tr>\n",
       "    <tr>\n",
       "      <th>25%</th>\n",
       "      <td>47.00</td>\n",
       "      <td>120.00</td>\n",
       "      <td>173.25</td>\n",
       "      <td>0.00</td>\n",
       "      <td>120.00</td>\n",
       "      <td>0.00</td>\n",
       "    </tr>\n",
       "    <tr>\n",
       "      <th>50%</th>\n",
       "      <td>54.00</td>\n",
       "      <td>130.00</td>\n",
       "      <td>223.00</td>\n",
       "      <td>0.00</td>\n",
       "      <td>138.00</td>\n",
       "      <td>0.60</td>\n",
       "    </tr>\n",
       "    <tr>\n",
       "      <th>75%</th>\n",
       "      <td>60.00</td>\n",
       "      <td>140.00</td>\n",
       "      <td>267.00</td>\n",
       "      <td>0.00</td>\n",
       "      <td>156.00</td>\n",
       "      <td>1.50</td>\n",
       "    </tr>\n",
       "    <tr>\n",
       "      <th>max</th>\n",
       "      <td>77.00</td>\n",
       "      <td>200.00</td>\n",
       "      <td>603.00</td>\n",
       "      <td>1.00</td>\n",
       "      <td>202.00</td>\n",
       "      <td>6.20</td>\n",
       "    </tr>\n",
       "  </tbody>\n",
       "</table>\n",
       "</div>"
      ],
      "text/plain": [
       "          Age  RestingBP  Cholesterol  FastingBS   MaxHR  Oldpeak\n",
       "count  918.00     918.00       918.00     918.00  918.00   918.00\n",
       "mean    53.51     132.40       198.80       0.23  136.81     0.89\n",
       "std      9.43      18.51       109.38       0.42   25.46     1.07\n",
       "min     28.00       0.00         0.00       0.00   60.00    -2.60\n",
       "25%     47.00     120.00       173.25       0.00  120.00     0.00\n",
       "50%     54.00     130.00       223.00       0.00  138.00     0.60\n",
       "75%     60.00     140.00       267.00       0.00  156.00     1.50\n",
       "max     77.00     200.00       603.00       1.00  202.00     6.20"
      ]
     },
     "execution_count": 13,
     "metadata": {},
     "output_type": "execute_result"
    }
   ],
   "source": [
    "round(df[con_col].describe(), 2) # two decimal"
   ]
  },
  {
   "cell_type": "markdown",
   "id": "a6faee45",
   "metadata": {
    "papermill": {
     "duration": 0.009559,
     "end_time": "2023-04-14T17:02:11.418080",
     "exception": false,
     "start_time": "2023-04-14T17:02:11.408521",
     "status": "completed"
    },
    "tags": []
   },
   "source": [
    "# Visualization"
   ]
  },
  {
   "cell_type": "code",
   "execution_count": 14,
   "id": "faf18854",
   "metadata": {
    "execution": {
     "iopub.execute_input": "2023-04-14T17:02:11.439006Z",
     "iopub.status.busy": "2023-04-14T17:02:11.438587Z",
     "iopub.status.idle": "2023-04-14T17:02:12.617273Z",
     "shell.execute_reply": "2023-04-14T17:02:12.615420Z"
    },
    "papermill": {
     "duration": 1.19247,
     "end_time": "2023-04-14T17:02:12.620095",
     "exception": false,
     "start_time": "2023-04-14T17:02:11.427625",
     "status": "completed"
    },
    "tags": []
   },
   "outputs": [],
   "source": [
    "import seaborn as sns\n",
    "import matplotlib.pyplot as plt\n",
    "from matplotlib import rcParams\n",
    "sns.set(style='whitegrid')\n",
    "\n",
    "config = {\n",
    "    \"font.family\":'serif',\n",
    "    \"font.size\": 10.5,\n",
    "    \"mathtext.fontset\":'stix',\n",
    "    \"font.serif\": ['Times New Roman'],\n",
    "}\n",
    "rcParams.update(config)"
   ]
  },
  {
   "cell_type": "code",
   "execution_count": 15,
   "id": "abec8047",
   "metadata": {
    "collapsed": false,
    "execution": {
     "iopub.execute_input": "2023-04-14T17:02:12.641473Z",
     "iopub.status.busy": "2023-04-14T17:02:12.641071Z",
     "iopub.status.idle": "2023-04-14T17:02:14.439951Z",
     "shell.execute_reply": "2023-04-14T17:02:14.438537Z"
    },
    "jupyter": {
     "outputs_hidden": false
    },
    "papermill": {
     "duration": 1.812931,
     "end_time": "2023-04-14T17:02:14.442852",
     "exception": false,
     "start_time": "2023-04-14T17:02:12.629921",
     "status": "completed"
    },
    "tags": []
   },
   "outputs": [
    {
     "name": "stderr",
     "output_type": "stream",
     "text": [
      "/opt/conda/lib/python3.7/site-packages/ipykernel_launcher.py:35: UserWarning: FixedFormatter should only be used together with FixedLocator\n"
     ]
    },
    {
     "data": {
      "image/png": "[encoded data removed]",
      "text/plain": [
       "<Figure size 1600x1200 with 12 Axes>"
      ]
     },
     "metadata": {},
     "output_type": "display_data"
    }
   ],
   "source": [
    "fig, ax = plt.subplots(3,4,figsize=(16,12))\n",
    "# Age the relationship between Age and HeartDisease\n",
    "\n",
    "sns.kdeplot(\n",
    "    ax = ax[0][0],\n",
    "    data = df,\n",
    "    x = 'Age',\n",
    "    hue = 'HeartDisease',\n",
    "    fill = True,\n",
    "    linewidth = 0\n",
    ")\n",
    "ax[0][0].grid(False)\n",
    "ax[0][0].set_ylabel('')\n",
    "sns.move_legend(ax[0][0], loc='upper left') # move legend location\n",
    "\n",
    "# Sex\n",
    "sns.countplot(\n",
    "    ax = ax[0][1],\n",
    "    data = df,\n",
    "    x = 'Sex',\n",
    "    hue = 'HeartDisease'\n",
    ")\n",
    "ax[0][1].grid(False)\n",
    "ax[0][1].set_xticklabels(['female','male'])\n",
    "ax[0][1].set_ylabel('')\n",
    "\n",
    "# ChestPainType\n",
    "sns.stripplot(\n",
    "    ax = ax[0][2],\n",
    "    data=df,\n",
    "    x='ChestPainType',\n",
    "    y='Age',\n",
    "    hue='HeartDisease'\n",
    ")\n",
    "ax[0][2].set_xticklabels(['TA', 'ATA', 'NAP', 'ASY'])\n",
    "ax[0][2].set_ylabel('')\n",
    "ax[0][2].grid(False)\n",
    "\n",
    "# RestingBP\n",
    "sns.boxenplot(\n",
    "    ax = ax[0][3],\n",
    "    data = df,\n",
    "    y = 'RestingBP',\n",
    "    x = 'HeartDisease'\n",
    ")\n",
    "ax[0][3].set_ylabel('')\n",
    "ax[0][3].set_xlabel('RestingBP')\n",
    "ax[0][3].grid(False)\n",
    "\n",
    "# Cholesterol\n",
    "sns.kdeplot(\n",
    "    ax = ax[1][0],\n",
    "    data = df,\n",
    "    x = 'Cholesterol',\n",
    "    hue = 'HeartDisease',\n",
    "    fill = True,\n",
    "    linewidth = 0\n",
    ")\n",
    "ax[1][0].grid(False)\n",
    "ax[1][0].set_ylabel('')\n",
    "\n",
    "# FastingBS fasting blood sugar\n",
    "sns.countplot(\n",
    "    ax = ax[1][1],\n",
    "    data = df,\n",
    "    x = 'FastingBS',\n",
    "    hue = 'HeartDisease'\n",
    ")\n",
    "ax[1][1].set_xticklabels(['otherwise','>120mg/dl'])\n",
    "ax[1][1].grid(False)\n",
    "ax[1][1].set_ylabel('')\n",
    "\n",
    "# RestingECG\n",
    "sns.countplot(\n",
    "    ax = ax[1][2],\n",
    "    data = df,\n",
    "    x = 'RestingECG',\n",
    "    hue = 'HeartDisease'\n",
    ")\n",
    "ax[1][2].set_xticklabels(['Normal','ST','LVH'])\n",
    "ax[1][2].grid(False)\n",
    "ax[1][2].set_ylabel('')\n",
    "\n",
    "# MaxHR\n",
    "sns.violinplot(\n",
    "    ax = ax[1][3],\n",
    "    data = df,\n",
    "    y = 'MaxHR',\n",
    "    x = 'HeartDisease'\n",
    ")\n",
    "ax[1][3].grid(False)\n",
    "ax[1][3].set_ylabel('')\n",
    "\n",
    "\n",
    "# ExerciseAngina exercise-induced angina\n",
    "sns.countplot(\n",
    "    ax = ax[2][0],\n",
    "    data = df,\n",
    "    x = 'ExerciseAngina',\n",
    "    hue = 'HeartDisease'\n",
    ")\n",
    "ax[2][0].grid(False)\n",
    "ax[2][0].set_ylabel('')\n",
    "\n",
    "# Oldpeak\n",
    "sns.boxplot(\n",
    "    ax = ax[2][1],\n",
    "    data =df,\n",
    "    x = 'HeartDisease',\n",
    "    y = 'Oldpeak'\n",
    ")\n",
    "ax[2][1].grid(False)\n",
    "ax[2][1].set_ylabel('')\n",
    "ax[2][1].set_xlabel('Oldpeak')\n",
    "\n",
    "# ST_Slope\n",
    "sns.countplot(\n",
    "    ax = ax[2][2],\n",
    "    data = df,\n",
    "    x = 'ST_Slope',\n",
    "    hue = 'HeartDisease',\n",
    ")\n",
    "ax[2][2].set_xticklabels(['upsloping', 'flat', 'downsloping'])\n",
    "ax[2][2].grid(False)\n",
    "ax[2][2].set_ylabel('')\n",
    "\n",
    "# HeartDisease\n",
    "sns.countplot(\n",
    "    ax = ax[2][3],\n",
    "    data = df,\n",
    "    x = 'HeartDisease',\n",
    ")\n",
    "for x, y in enumerate(df.HeartDisease.value_counts()[::-1]):\n",
    "    # print(x,y)\n",
    "   ax[2][3].text(x-0.05,y+3,'%s'%y)\n",
    "ax[2][3].grid(False)\n",
    "ax[2][3].set_ylabel('')\n",
    "\n",
    "plt.show()"
   ]
  },
  {
   "cell_type": "markdown",
   "id": "11fbe2c1",
   "metadata": {
    "papermill": {
     "duration": 0.011508,
     "end_time": "2023-04-14T17:02:14.465952",
     "exception": false,
     "start_time": "2023-04-14T17:02:14.454444",
     "status": "completed"
    },
    "tags": []
   },
   "source": [
    "# Conclusions of EDA"
   ]
  },
  {
   "cell_type": "markdown",
   "id": "1f942755",
   "metadata": {
    "papermill": {
     "duration": 0.011345,
     "end_time": "2023-04-14T17:02:14.489019",
     "exception": false,
     "start_time": "2023-04-14T17:02:14.477674",
     "status": "completed"
    },
    "tags": []
   },
   "source": [
    " 1. 58 years old people more tend to have heart disease\n",
    " 2. male more tend to have heart disease than female\n",
    " 3. the chest pain type of patient more likely is asymptomatic\n",
    " 4. blood pressure of heart disease patient have exception value, such as zero\n",
    " 5. serum Cholesterol of heart disease patient is lower than normal people\n",
    " 6. when fasting blood sugar > 120 mg/dl, the number of patien whose fasting blood sugar bigger than 120 mg/dl is more. But when fasting blood sugar < 120 mg/dl, the number of normal people is more.\n",
    " 7. the number of people who have ST-T wave abnormality is double than normal people\n",
    " 8. the max heart rate of patient is lower\n",
    " 9. patient more tend to have exercise-induced angina\n",
    " 10. the oldpeak of patient is higher\n",
    " 11. flat and downsloping people more tend to have heart disease\n",
    " 12. the number of patient is 508 that more than normal people\n"
   ]
  },
  {
   "cell_type": "markdown",
   "id": "e13d0ea0",
   "metadata": {
    "papermill": {
     "duration": 0.011321,
     "end_time": "2023-04-14T17:02:14.511942",
     "exception": false,
     "start_time": "2023-04-14T17:02:14.500621",
     "status": "completed"
    },
    "tags": []
   },
   "source": [
    "# Prediction"
   ]
  },
  {
   "cell_type": "code",
   "execution_count": 16,
   "id": "3a138f67",
   "metadata": {
    "collapsed": false,
    "execution": {
     "iopub.execute_input": "2023-04-14T17:02:14.536646Z",
     "iopub.status.busy": "2023-04-14T17:02:14.536261Z",
     "iopub.status.idle": "2023-04-14T17:02:15.207918Z",
     "shell.execute_reply": "2023-04-14T17:02:15.206680Z"
    },
    "jupyter": {
     "outputs_hidden": false
    },
    "papermill": {
     "duration": 0.687012,
     "end_time": "2023-04-14T17:02:15.210472",
     "exception": false,
     "start_time": "2023-04-14T17:02:14.523460",
     "status": "completed"
    },
    "tags": []
   },
   "outputs": [],
   "source": [
    "# Scaling\n",
    "from sklearn.preprocessing import RobustScaler\n",
    "# Train Test Split\n",
    "from sklearn.model_selection import train_test_split\n",
    "\n",
    "# models\n",
    "# svc\n",
    "from sklearn.svm import SVC\n",
    "# logistic regression\n",
    "from sklearn.linear_model import LogisticRegression\n",
    "# random forest\n",
    "from sklearn.ensemble import RandomForestClassifier\n",
    "# decision tree\n",
    "from sklearn.tree import DecisionTreeClassifier\n",
    "# boosting\n",
    "from sklearn.ensemble import GradientBoostingClassifier\n",
    "# xgboost\n",
    "import xgboost\n",
    "# metrics\n",
    "from sklearn.metrics import accuracy_score, classification_report, roc_curve\n",
    "# crossover validation\n",
    "from sklearn.model_selection import cross_val_score\n",
    "from sklearn.model_selection import GridSearchCV"
   ]
  },
  {
   "cell_type": "code",
   "execution_count": 17,
   "id": "85daa86a",
   "metadata": {
    "collapsed": false,
    "execution": {
     "iopub.execute_input": "2023-04-14T17:02:15.235759Z",
     "iopub.status.busy": "2023-04-14T17:02:15.235347Z",
     "iopub.status.idle": "2023-04-14T17:02:15.248130Z",
     "shell.execute_reply": "2023-04-14T17:02:15.246517Z"
    },
    "jupyter": {
     "outputs_hidden": false
    },
    "papermill": {
     "duration": 0.029261,
     "end_time": "2023-04-14T17:02:15.251232",
     "exception": false,
     "start_time": "2023-04-14T17:02:15.221971",
     "status": "completed"
    },
    "tags": []
   },
   "outputs": [],
   "source": [
    "# one-hot coding\n",
    "df = pd.get_dummies(df, columns=cat_col, drop_first=True)"
   ]
  },
  {
   "cell_type": "code",
   "execution_count": 18,
   "id": "fa220bde",
   "metadata": {
    "collapsed": false,
    "execution": {
     "iopub.execute_input": "2023-04-14T17:02:15.276599Z",
     "iopub.status.busy": "2023-04-14T17:02:15.276220Z",
     "iopub.status.idle": "2023-04-14T17:02:15.296724Z",
     "shell.execute_reply": "2023-04-14T17:02:15.295294Z"
    },
    "jupyter": {
     "outputs_hidden": false
    },
    "papermill": {
     "duration": 0.036415,
     "end_time": "2023-04-14T17:02:15.299262",
     "exception": false,
     "start_time": "2023-04-14T17:02:15.262847",
     "status": "completed"
    },
    "tags": []
   },
   "outputs": [
    {
     "data": {
      "text/html": [
       "<div>\n",
       "<style scoped>\n",
       "    .dataframe tbody tr th:only-of-type {\n",
       "        vertical-align: middle;\n",
       "    }\n",
       "\n",
       "    .dataframe tbody tr th {\n",
       "        vertical-align: top;\n",
       "    }\n",
       "\n",
       "    .dataframe thead th {\n",
       "        text-align: right;\n",
       "    }\n",
       "</style>\n",
       "<table border=\"1\" class=\"dataframe\">\n",
       "  <thead>\n",
       "    <tr style=\"text-align: right;\">\n",
       "      <th></th>\n",
       "      <th>Age</th>\n",
       "      <th>RestingBP</th>\n",
       "      <th>Cholesterol</th>\n",
       "      <th>FastingBS</th>\n",
       "      <th>MaxHR</th>\n",
       "      <th>Oldpeak</th>\n",
       "      <th>HeartDisease</th>\n",
       "      <th>Sex_1</th>\n",
       "      <th>ChestPainType_1</th>\n",
       "      <th>ChestPainType_2</th>\n",
       "      <th>ChestPainType_3</th>\n",
       "      <th>RestingECG_1</th>\n",
       "      <th>RestingECG_2</th>\n",
       "      <th>ExerciseAngina_1</th>\n",
       "      <th>ST_Slope_1</th>\n",
       "      <th>ST_Slope_2</th>\n",
       "    </tr>\n",
       "  </thead>\n",
       "  <tbody>\n",
       "    <tr>\n",
       "      <th>0</th>\n",
       "      <td>40</td>\n",
       "      <td>140</td>\n",
       "      <td>289</td>\n",
       "      <td>0</td>\n",
       "      <td>172</td>\n",
       "      <td>0.0</td>\n",
       "      <td>0</td>\n",
       "      <td>1</td>\n",
       "      <td>1</td>\n",
       "      <td>0</td>\n",
       "      <td>0</td>\n",
       "      <td>0</td>\n",
       "      <td>0</td>\n",
       "      <td>0</td>\n",
       "      <td>0</td>\n",
       "      <td>0</td>\n",
       "    </tr>\n",
       "    <tr>\n",
       "      <th>1</th>\n",
       "      <td>49</td>\n",
       "      <td>160</td>\n",
       "      <td>180</td>\n",
       "      <td>0</td>\n",
       "      <td>156</td>\n",
       "      <td>1.0</td>\n",
       "      <td>1</td>\n",
       "      <td>0</td>\n",
       "      <td>0</td>\n",
       "      <td>1</td>\n",
       "      <td>0</td>\n",
       "      <td>0</td>\n",
       "      <td>0</td>\n",
       "      <td>0</td>\n",
       "      <td>1</td>\n",
       "      <td>0</td>\n",
       "    </tr>\n",
       "    <tr>\n",
       "      <th>2</th>\n",
       "      <td>37</td>\n",
       "      <td>130</td>\n",
       "      <td>283</td>\n",
       "      <td>0</td>\n",
       "      <td>98</td>\n",
       "      <td>0.0</td>\n",
       "      <td>0</td>\n",
       "      <td>1</td>\n",
       "      <td>1</td>\n",
       "      <td>0</td>\n",
       "      <td>0</td>\n",
       "      <td>1</td>\n",
       "      <td>0</td>\n",
       "      <td>0</td>\n",
       "      <td>0</td>\n",
       "      <td>0</td>\n",
       "    </tr>\n",
       "    <tr>\n",
       "      <th>3</th>\n",
       "      <td>48</td>\n",
       "      <td>138</td>\n",
       "      <td>214</td>\n",
       "      <td>0</td>\n",
       "      <td>108</td>\n",
       "      <td>1.5</td>\n",
       "      <td>1</td>\n",
       "      <td>0</td>\n",
       "      <td>0</td>\n",
       "      <td>0</td>\n",
       "      <td>1</td>\n",
       "      <td>0</td>\n",
       "      <td>0</td>\n",
       "      <td>1</td>\n",
       "      <td>1</td>\n",
       "      <td>0</td>\n",
       "    </tr>\n",
       "    <tr>\n",
       "      <th>4</th>\n",
       "      <td>54</td>\n",
       "      <td>150</td>\n",
       "      <td>195</td>\n",
       "      <td>0</td>\n",
       "      <td>122</td>\n",
       "      <td>0.0</td>\n",
       "      <td>0</td>\n",
       "      <td>1</td>\n",
       "      <td>0</td>\n",
       "      <td>1</td>\n",
       "      <td>0</td>\n",
       "      <td>0</td>\n",
       "      <td>0</td>\n",
       "      <td>0</td>\n",
       "      <td>0</td>\n",
       "      <td>0</td>\n",
       "    </tr>\n",
       "    <tr>\n",
       "      <th>...</th>\n",
       "      <td>...</td>\n",
       "      <td>...</td>\n",
       "      <td>...</td>\n",
       "      <td>...</td>\n",
       "      <td>...</td>\n",
       "      <td>...</td>\n",
       "      <td>...</td>\n",
       "      <td>...</td>\n",
       "      <td>...</td>\n",
       "      <td>...</td>\n",
       "      <td>...</td>\n",
       "      <td>...</td>\n",
       "      <td>...</td>\n",
       "      <td>...</td>\n",
       "      <td>...</td>\n",
       "      <td>...</td>\n",
       "    </tr>\n",
       "    <tr>\n",
       "      <th>913</th>\n",
       "      <td>45</td>\n",
       "      <td>110</td>\n",
       "      <td>264</td>\n",
       "      <td>0</td>\n",
       "      <td>132</td>\n",
       "      <td>1.2</td>\n",
       "      <td>1</td>\n",
       "      <td>1</td>\n",
       "      <td>0</td>\n",
       "      <td>0</td>\n",
       "      <td>0</td>\n",
       "      <td>0</td>\n",
       "      <td>0</td>\n",
       "      <td>0</td>\n",
       "      <td>1</td>\n",
       "      <td>0</td>\n",
       "    </tr>\n",
       "    <tr>\n",
       "      <th>914</th>\n",
       "      <td>68</td>\n",
       "      <td>144</td>\n",
       "      <td>193</td>\n",
       "      <td>1</td>\n",
       "      <td>141</td>\n",
       "      <td>3.4</td>\n",
       "      <td>1</td>\n",
       "      <td>1</td>\n",
       "      <td>0</td>\n",
       "      <td>0</td>\n",
       "      <td>1</td>\n",
       "      <td>0</td>\n",
       "      <td>0</td>\n",
       "      <td>0</td>\n",
       "      <td>1</td>\n",
       "      <td>0</td>\n",
       "    </tr>\n",
       "    <tr>\n",
       "      <th>915</th>\n",
       "      <td>57</td>\n",
       "      <td>130</td>\n",
       "      <td>131</td>\n",
       "      <td>0</td>\n",
       "      <td>115</td>\n",
       "      <td>1.2</td>\n",
       "      <td>1</td>\n",
       "      <td>1</td>\n",
       "      <td>0</td>\n",
       "      <td>0</td>\n",
       "      <td>1</td>\n",
       "      <td>0</td>\n",
       "      <td>0</td>\n",
       "      <td>1</td>\n",
       "      <td>1</td>\n",
       "      <td>0</td>\n",
       "    </tr>\n",
       "    <tr>\n",
       "      <th>916</th>\n",
       "      <td>57</td>\n",
       "      <td>130</td>\n",
       "      <td>236</td>\n",
       "      <td>0</td>\n",
       "      <td>174</td>\n",
       "      <td>0.0</td>\n",
       "      <td>1</td>\n",
       "      <td>0</td>\n",
       "      <td>1</td>\n",
       "      <td>0</td>\n",
       "      <td>0</td>\n",
       "      <td>0</td>\n",
       "      <td>1</td>\n",
       "      <td>0</td>\n",
       "      <td>1</td>\n",
       "      <td>0</td>\n",
       "    </tr>\n",
       "    <tr>\n",
       "      <th>917</th>\n",
       "      <td>38</td>\n",
       "      <td>138</td>\n",
       "      <td>175</td>\n",
       "      <td>0</td>\n",
       "      <td>173</td>\n",
       "      <td>0.0</td>\n",
       "      <td>0</td>\n",
       "      <td>1</td>\n",
       "      <td>0</td>\n",
       "      <td>1</td>\n",
       "      <td>0</td>\n",
       "      <td>0</td>\n",
       "      <td>0</td>\n",
       "      <td>0</td>\n",
       "      <td>0</td>\n",
       "      <td>0</td>\n",
       "    </tr>\n",
       "  </tbody>\n",
       "</table>\n",
       "<p>918 rows × 16 columns</p>\n",
       "</div>"
      ],
      "text/plain": [
       "     Age  RestingBP  Cholesterol  FastingBS  MaxHR  Oldpeak  HeartDisease  \\\n",
       "0     40        140          289          0    172      0.0             0   \n",
       "1     49        160          180          0    156      1.0             1   \n",
       "2     37        130          283          0     98      0.0             0   \n",
       "3     48        138          214          0    108      1.5             1   \n",
       "4     54        150          195          0    122      0.0             0   \n",
       "..   ...        ...          ...        ...    ...      ...           ...   \n",
       "913   45        110          264          0    132      1.2             1   \n",
       "914   68        144          193          1    141      3.4             1   \n",
       "915   57        130          131          0    115      1.2             1   \n",
       "916   57        130          236          0    174      0.0             1   \n",
       "917   38        138          175          0    173      0.0             0   \n",
       "\n",
       "     Sex_1  ChestPainType_1  ChestPainType_2  ChestPainType_3  RestingECG_1  \\\n",
       "0        1                1                0                0             0   \n",
       "1        0                0                1                0             0   \n",
       "2        1                1                0                0             1   \n",
       "3        0                0                0                1             0   \n",
       "4        1                0                1                0             0   \n",
       "..     ...              ...              ...              ...           ...   \n",
       "913      1                0                0                0             0   \n",
       "914      1                0                0                1             0   \n",
       "915      1                0                0                1             0   \n",
       "916      0                1                0                0             0   \n",
       "917      1                0                1                0             0   \n",
       "\n",
       "     RestingECG_2  ExerciseAngina_1  ST_Slope_1  ST_Slope_2  \n",
       "0               0                 0           0           0  \n",
       "1               0                 0           1           0  \n",
       "2               0                 0           0           0  \n",
       "3               0                 1           1           0  \n",
       "4               0                 0           0           0  \n",
       "..            ...               ...         ...         ...  \n",
       "913             0                 0           1           0  \n",
       "914             0                 0           1           0  \n",
       "915             0                 1           1           0  \n",
       "916             1                 0           1           0  \n",
       "917             0                 0           0           0  \n",
       "\n",
       "[918 rows x 16 columns]"
      ]
     },
     "execution_count": 18,
     "metadata": {},
     "output_type": "execute_result"
    }
   ],
   "source": [
    "df"
   ]
  },
  {
   "cell_type": "code",
   "execution_count": 19,
   "id": "81c96235",
   "metadata": {
    "collapsed": false,
    "execution": {
     "iopub.execute_input": "2023-04-14T17:02:15.325743Z",
     "iopub.status.busy": "2023-04-14T17:02:15.325282Z",
     "iopub.status.idle": "2023-04-14T17:02:15.351033Z",
     "shell.execute_reply": "2023-04-14T17:02:15.349812Z"
    },
    "jupyter": {
     "outputs_hidden": false
    },
    "papermill": {
     "duration": 0.041942,
     "end_time": "2023-04-14T17:02:15.353213",
     "exception": false,
     "start_time": "2023-04-14T17:02:15.311271",
     "status": "completed"
    },
    "tags": []
   },
   "outputs": [
    {
     "data": {
      "text/html": [
       "<div>\n",
       "<style scoped>\n",
       "    .dataframe tbody tr th:only-of-type {\n",
       "        vertical-align: middle;\n",
       "    }\n",
       "\n",
       "    .dataframe tbody tr th {\n",
       "        vertical-align: top;\n",
       "    }\n",
       "\n",
       "    .dataframe thead th {\n",
       "        text-align: right;\n",
       "    }\n",
       "</style>\n",
       "<table border=\"1\" class=\"dataframe\">\n",
       "  <thead>\n",
       "    <tr style=\"text-align: right;\">\n",
       "      <th></th>\n",
       "      <th>Age</th>\n",
       "      <th>RestingBP</th>\n",
       "      <th>Cholesterol</th>\n",
       "      <th>FastingBS</th>\n",
       "      <th>MaxHR</th>\n",
       "      <th>Oldpeak</th>\n",
       "      <th>Sex_1</th>\n",
       "      <th>ChestPainType_1</th>\n",
       "      <th>ChestPainType_2</th>\n",
       "      <th>ChestPainType_3</th>\n",
       "      <th>RestingECG_1</th>\n",
       "      <th>RestingECG_2</th>\n",
       "      <th>ExerciseAngina_1</th>\n",
       "      <th>ST_Slope_1</th>\n",
       "      <th>ST_Slope_2</th>\n",
       "    </tr>\n",
       "  </thead>\n",
       "  <tbody>\n",
       "    <tr>\n",
       "      <th>0</th>\n",
       "      <td>-1.076923</td>\n",
       "      <td>0.5</td>\n",
       "      <td>0.704000</td>\n",
       "      <td>0.0</td>\n",
       "      <td>0.944444</td>\n",
       "      <td>-0.400000</td>\n",
       "      <td>1</td>\n",
       "      <td>1</td>\n",
       "      <td>0</td>\n",
       "      <td>0</td>\n",
       "      <td>0</td>\n",
       "      <td>0</td>\n",
       "      <td>0</td>\n",
       "      <td>0</td>\n",
       "      <td>0</td>\n",
       "    </tr>\n",
       "    <tr>\n",
       "      <th>1</th>\n",
       "      <td>-0.384615</td>\n",
       "      <td>1.5</td>\n",
       "      <td>-0.458667</td>\n",
       "      <td>0.0</td>\n",
       "      <td>0.500000</td>\n",
       "      <td>0.266667</td>\n",
       "      <td>0</td>\n",
       "      <td>0</td>\n",
       "      <td>1</td>\n",
       "      <td>0</td>\n",
       "      <td>0</td>\n",
       "      <td>0</td>\n",
       "      <td>0</td>\n",
       "      <td>1</td>\n",
       "      <td>0</td>\n",
       "    </tr>\n",
       "    <tr>\n",
       "      <th>2</th>\n",
       "      <td>-1.307692</td>\n",
       "      <td>0.0</td>\n",
       "      <td>0.640000</td>\n",
       "      <td>0.0</td>\n",
       "      <td>-1.111111</td>\n",
       "      <td>-0.400000</td>\n",
       "      <td>1</td>\n",
       "      <td>1</td>\n",
       "      <td>0</td>\n",
       "      <td>0</td>\n",
       "      <td>1</td>\n",
       "      <td>0</td>\n",
       "      <td>0</td>\n",
       "      <td>0</td>\n",
       "      <td>0</td>\n",
       "    </tr>\n",
       "    <tr>\n",
       "      <th>3</th>\n",
       "      <td>-0.461538</td>\n",
       "      <td>0.4</td>\n",
       "      <td>-0.096000</td>\n",
       "      <td>0.0</td>\n",
       "      <td>-0.833333</td>\n",
       "      <td>0.600000</td>\n",
       "      <td>0</td>\n",
       "      <td>0</td>\n",
       "      <td>0</td>\n",
       "      <td>1</td>\n",
       "      <td>0</td>\n",
       "      <td>0</td>\n",
       "      <td>1</td>\n",
       "      <td>1</td>\n",
       "      <td>0</td>\n",
       "    </tr>\n",
       "    <tr>\n",
       "      <th>4</th>\n",
       "      <td>0.000000</td>\n",
       "      <td>1.0</td>\n",
       "      <td>-0.298667</td>\n",
       "      <td>0.0</td>\n",
       "      <td>-0.444444</td>\n",
       "      <td>-0.400000</td>\n",
       "      <td>1</td>\n",
       "      <td>0</td>\n",
       "      <td>1</td>\n",
       "      <td>0</td>\n",
       "      <td>0</td>\n",
       "      <td>0</td>\n",
       "      <td>0</td>\n",
       "      <td>0</td>\n",
       "      <td>0</td>\n",
       "    </tr>\n",
       "  </tbody>\n",
       "</table>\n",
       "</div>"
      ],
      "text/plain": [
       "        Age  RestingBP  Cholesterol  FastingBS     MaxHR   Oldpeak  Sex_1  \\\n",
       "0 -1.076923        0.5     0.704000        0.0  0.944444 -0.400000      1   \n",
       "1 -0.384615        1.5    -0.458667        0.0  0.500000  0.266667      0   \n",
       "2 -1.307692        0.0     0.640000        0.0 -1.111111 -0.400000      1   \n",
       "3 -0.461538        0.4    -0.096000        0.0 -0.833333  0.600000      0   \n",
       "4  0.000000        1.0    -0.298667        0.0 -0.444444 -0.400000      1   \n",
       "\n",
       "   ChestPainType_1  ChestPainType_2  ChestPainType_3  RestingECG_1  \\\n",
       "0                1                0                0             0   \n",
       "1                0                1                0             0   \n",
       "2                1                0                0             1   \n",
       "3                0                0                1             0   \n",
       "4                0                1                0             0   \n",
       "\n",
       "   RestingECG_2  ExerciseAngina_1  ST_Slope_1  ST_Slope_2  \n",
       "0             0                 0           0           0  \n",
       "1             0                 0           1           0  \n",
       "2             0                 0           0           0  \n",
       "3             0                 1           1           0  \n",
       "4             0                 0           0           0  "
      ]
     },
     "execution_count": 19,
     "metadata": {},
     "output_type": "execute_result"
    }
   ],
   "source": [
    "# define the features and target\n",
    "y = df['HeartDisease']\n",
    "X = df.drop('HeartDisease', axis=1)\n",
    "\n",
    "# data scaler\n",
    "scaler = RobustScaler()\n",
    "X[con_col] = scaler.fit_transform(X[con_col])\n",
    "\n",
    "X.head()"
   ]
  },
  {
   "cell_type": "code",
   "execution_count": 20,
   "id": "e7661dbf",
   "metadata": {
    "collapsed": false,
    "execution": {
     "iopub.execute_input": "2023-04-14T17:02:15.379522Z",
     "iopub.status.busy": "2023-04-14T17:02:15.379158Z",
     "iopub.status.idle": "2023-04-14T17:02:15.388765Z",
     "shell.execute_reply": "2023-04-14T17:02:15.387770Z"
    },
    "jupyter": {
     "outputs_hidden": false
    },
    "papermill": {
     "duration": 0.025378,
     "end_time": "2023-04-14T17:02:15.390754",
     "exception": false,
     "start_time": "2023-04-14T17:02:15.365376",
     "status": "completed"
    },
    "tags": []
   },
   "outputs": [
    {
     "name": "stdout",
     "output_type": "stream",
     "text": [
      "X_train shape is (734, 15)\n",
      "X_test shape is (184, 15)\n",
      "y_train shape is (734,)\n",
      "y_test shape is (184,)\n"
     ]
    }
   ],
   "source": [
    "# define the train data and test data\n",
    "X_train, X_test, y_train, y_test = train_test_split(X, y, test_size=0.2, random_state=1)\n",
    "print('X_train shape is', X_train.shape)\n",
    "print('X_test shape is', X_test.shape)\n",
    "print('y_train shape is', y_train.shape)\n",
    "print('y_test shape is', y_test.shape)"
   ]
  },
  {
   "cell_type": "markdown",
   "id": "42515e9f",
   "metadata": {
    "papermill": {
     "duration": 0.012184,
     "end_time": "2023-04-14T17:02:15.415283",
     "exception": false,
     "start_time": "2023-04-14T17:02:15.403099",
     "status": "completed"
    },
    "tags": []
   },
   "source": [
    "### support vector classifier"
   ]
  },
  {
   "cell_type": "code",
   "execution_count": 21,
   "id": "d1787e3b",
   "metadata": {
    "collapsed": false,
    "execution": {
     "iopub.execute_input": "2023-04-14T17:02:15.442556Z",
     "iopub.status.busy": "2023-04-14T17:02:15.442194Z",
     "iopub.status.idle": "2023-04-14T17:02:15.502915Z",
     "shell.execute_reply": "2023-04-14T17:02:15.501915Z"
    },
    "jupyter": {
     "outputs_hidden": false
    },
    "papermill": {
     "duration": 0.077401,
     "end_time": "2023-04-14T17:02:15.505246",
     "exception": false,
     "start_time": "2023-04-14T17:02:15.427845",
     "status": "completed"
    },
    "tags": []
   },
   "outputs": [
    {
     "name": "stdout",
     "output_type": "stream",
     "text": [
      "the score of svc is 0.907608695652174\n"
     ]
    }
   ],
   "source": [
    "svc = SVC(kernel='linear', C=1, random_state=1, probability=True)\n",
    "svc.fit(X_train, y_train)\n",
    "y_pred = svc.predict(X_test)\n",
    "print('the score of svc is', accuracy_score(y_pred, y_test))"
   ]
  },
  {
   "cell_type": "code",
   "execution_count": 22,
   "id": "b43e0f31",
   "metadata": {
    "collapsed": false,
    "execution": {
     "iopub.execute_input": "2023-04-14T17:02:15.533530Z",
     "iopub.status.busy": "2023-04-14T17:02:15.533114Z",
     "iopub.status.idle": "2023-04-14T17:02:15.717493Z",
     "shell.execute_reply": "2023-04-14T17:02:15.715991Z"
    },
    "jupyter": {
     "outputs_hidden": false
    },
    "papermill": {
     "duration": 0.201548,
     "end_time": "2023-04-14T17:02:15.719902",
     "exception": false,
     "start_time": "2023-04-14T17:02:15.518354",
     "status": "completed"
    },
    "tags": []
   },
   "outputs": [
    {
     "data": {
      "image/png": "[encoded data removed]",
      "text/plain": [
       "<Figure size 640x480 with 1 Axes>"
      ]
     },
     "metadata": {},
     "output_type": "display_data"
    }
   ],
   "source": [
    "# roc curve\n",
    "# calculating the probabilities\n",
    "y_pred_prob = svc.predict_proba(X_test)[:,1]\n",
    "\n",
    "# instantiating the roc_cruve\n",
    "fpr, tpr, threshols = roc_curve(y_test, y_pred_prob)\n",
    "\n",
    "# plotting the curve\n",
    "plt.plot([0,1], [0,1], \"k--\", 'r+')\n",
    "plt.plot(fpr, tpr, label='support vector classifier')\n",
    "plt.xlabel(\"False Positive Rate\")\n",
    "plt.ylabel(\"True Positive Rate\")\n",
    "plt.title(\"support vector classifier ROC Curve\")\n",
    "plt.show()"
   ]
  },
  {
   "cell_type": "markdown",
   "id": "a5ede150",
   "metadata": {
    "papermill": {
     "duration": 0.012304,
     "end_time": "2023-04-14T17:02:15.745166",
     "exception": false,
     "start_time": "2023-04-14T17:02:15.732862",
     "status": "completed"
    },
    "tags": []
   },
   "source": [
    "### logistic regression"
   ]
  },
  {
   "cell_type": "code",
   "execution_count": 23,
   "id": "86adb24a",
   "metadata": {
    "collapsed": false,
    "execution": {
     "iopub.execute_input": "2023-04-14T17:02:15.773552Z",
     "iopub.status.busy": "2023-04-14T17:02:15.772790Z",
     "iopub.status.idle": "2023-04-14T17:02:15.791028Z",
     "shell.execute_reply": "2023-04-14T17:02:15.789853Z"
    },
    "jupyter": {
     "outputs_hidden": false
    },
    "papermill": {
     "duration": 0.035155,
     "end_time": "2023-04-14T17:02:15.793255",
     "exception": false,
     "start_time": "2023-04-14T17:02:15.758100",
     "status": "completed"
    },
    "tags": []
   },
   "outputs": [
    {
     "name": "stdout",
     "output_type": "stream",
     "text": [
      "the score of logistic regression is 0.8967391304347826\n"
     ]
    }
   ],
   "source": [
    "logreg = LogisticRegression(random_state=1)\n",
    "logreg.fit(X_train, y_train)\n",
    "y_pred = logreg.predict(X_test)\n",
    "print('the score of logistic regression is', accuracy_score(y_pred, y_test))"
   ]
  },
  {
   "cell_type": "markdown",
   "id": "f68dda39",
   "metadata": {
    "papermill": {
     "duration": 0.017019,
     "end_time": "2023-04-14T17:02:15.827611",
     "exception": false,
     "start_time": "2023-04-14T17:02:15.810592",
     "status": "completed"
    },
    "tags": []
   },
   "source": [
    "### random forest"
   ]
  },
  {
   "cell_type": "code",
   "execution_count": 24,
   "id": "e30d9faf",
   "metadata": {
    "collapsed": false,
    "execution": {
     "iopub.execute_input": "2023-04-14T17:02:15.865585Z",
     "iopub.status.busy": "2023-04-14T17:02:15.865197Z",
     "iopub.status.idle": "2023-04-14T17:02:16.186467Z",
     "shell.execute_reply": "2023-04-14T17:02:16.185623Z"
    },
    "jupyter": {
     "outputs_hidden": false
    },
    "papermill": {
     "duration": 0.343002,
     "end_time": "2023-04-14T17:02:16.188901",
     "exception": false,
     "start_time": "2023-04-14T17:02:15.845899",
     "status": "completed"
    },
    "tags": []
   },
   "outputs": [
    {
     "name": "stdout",
     "output_type": "stream",
     "text": [
      "the score of random forest is 0.8858695652173914\n"
     ]
    }
   ],
   "source": [
    "rf = RandomForestClassifier(random_state=1)\n",
    "rf.fit(X_train, y_train)\n",
    "y_pred = rf.predict(X_test)\n",
    "print('the score of random forest is', accuracy_score(y_pred, y_test))"
   ]
  },
  {
   "cell_type": "markdown",
   "id": "1a14d220",
   "metadata": {
    "papermill": {
     "duration": 0.013293,
     "end_time": "2023-04-14T17:02:16.215272",
     "exception": false,
     "start_time": "2023-04-14T17:02:16.201979",
     "status": "completed"
    },
    "tags": []
   },
   "source": [
    "### decision tree"
   ]
  },
  {
   "cell_type": "code",
   "execution_count": 25,
   "id": "82be88d5",
   "metadata": {
    "collapsed": false,
    "execution": {
     "iopub.execute_input": "2023-04-14T17:02:16.244422Z",
     "iopub.status.busy": "2023-04-14T17:02:16.243529Z",
     "iopub.status.idle": "2023-04-14T17:02:16.258977Z",
     "shell.execute_reply": "2023-04-14T17:02:16.256941Z"
    },
    "jupyter": {
     "outputs_hidden": false
    },
    "papermill": {
     "duration": 0.03272,
     "end_time": "2023-04-14T17:02:16.261912",
     "exception": false,
     "start_time": "2023-04-14T17:02:16.229192",
     "status": "completed"
    },
    "tags": []
   },
   "outputs": [
    {
     "name": "stdout",
     "output_type": "stream",
     "text": [
      "the score of decision tree is 0.8260869565217391\n"
     ]
    }
   ],
   "source": [
    "dt = DecisionTreeClassifier(random_state=1)\n",
    "dt.fit(X_train, y_train)\n",
    "y_pred = dt.predict(X_test)\n",
    "print('the score of decision tree is', accuracy_score(y_pred, y_test))"
   ]
  },
  {
   "cell_type": "markdown",
   "id": "1b53e321",
   "metadata": {
    "papermill": {
     "duration": 0.013643,
     "end_time": "2023-04-14T17:02:16.289597",
     "exception": false,
     "start_time": "2023-04-14T17:02:16.275954",
     "status": "completed"
    },
    "tags": []
   },
   "source": [
    "### gradient boosting"
   ]
  },
  {
   "cell_type": "code",
   "execution_count": 26,
   "id": "986a5f67",
   "metadata": {
    "collapsed": false,
    "execution": {
     "iopub.execute_input": "2023-04-14T17:02:16.317388Z",
     "iopub.status.busy": "2023-04-14T17:02:16.316757Z",
     "iopub.status.idle": "2023-04-14T17:02:16.452631Z",
     "shell.execute_reply": "2023-04-14T17:02:16.450989Z"
    },
    "jupyter": {
     "outputs_hidden": false
    },
    "papermill": {
     "duration": 0.153072,
     "end_time": "2023-04-14T17:02:16.455424",
     "exception": false,
     "start_time": "2023-04-14T17:02:16.302352",
     "status": "completed"
    },
    "tags": []
   },
   "outputs": [
    {
     "name": "stdout",
     "output_type": "stream",
     "text": [
      "the score of gradient boosting is 0.8858695652173914\n"
     ]
    }
   ],
   "source": [
    "gb = GradientBoostingClassifier(random_state=1)\n",
    "gb.fit(X_train, y_train)\n",
    "y_pred = gb.predict(X_test)\n",
    "print('the score of gradient boosting is', accuracy_score(y_pred, y_test))"
   ]
  },
  {
   "cell_type": "markdown",
   "id": "cb59fcb6",
   "metadata": {
    "papermill": {
     "duration": 0.012785,
     "end_time": "2023-04-14T17:02:16.481589",
     "exception": false,
     "start_time": "2023-04-14T17:02:16.468804",
     "status": "completed"
    },
    "tags": []
   },
   "source": [
    "### xgboosting"
   ]
  },
  {
   "cell_type": "code",
   "execution_count": 27,
   "id": "51c18d38",
   "metadata": {
    "collapsed": false,
    "execution": {
     "iopub.execute_input": "2023-04-14T17:02:16.509220Z",
     "iopub.status.busy": "2023-04-14T17:02:16.508805Z",
     "iopub.status.idle": "2023-04-14T17:02:16.725021Z",
     "shell.execute_reply": "2023-04-14T17:02:16.724195Z"
    },
    "jupyter": {
     "outputs_hidden": false
    },
    "papermill": {
     "duration": 0.232572,
     "end_time": "2023-04-14T17:02:16.726925",
     "exception": false,
     "start_time": "2023-04-14T17:02:16.494353",
     "status": "completed"
    },
    "tags": []
   },
   "outputs": [
    {
     "name": "stdout",
     "output_type": "stream",
     "text": [
      "the score of xgboosting is 0.8804347826086957\n"
     ]
    }
   ],
   "source": [
    "xgb = xgboost.XGBClassifier(random_state=1)\n",
    "xgb.fit(X_train, y_train)\n",
    "y_pred = xgb.predict(X_test)\n",
    "print('the score of xgboosting is', accuracy_score(y_pred, y_test))"
   ]
  }
 ],
 "metadata": {
  "kernelspec": {
   "display_name": "Python 3",
   "language": "python",
   "name": "python3"
  },
  "language_info": {
   "codemirror_mode": {
    "name": "ipython",
    "version": 3
   },
   "file_extension": ".py",
   "mimetype": "text/x-python",
   "name": "python",
   "nbconvert_exporter": "python",
   "pygments_lexer": "ipython3",
   "version": "3.7.12"
  },
  "papermill": {
   "default_parameters": {},
   "duration": 16.073579,
   "end_time": "2023-04-14T17:02:17.563816",
   "environment_variables": {},
   "exception": null,
   "input_path": "__notebook__.ipynb",
   "output_path": "__notebook__.ipynb",
   "parameters": {},
   "start_time": "2023-04-14T17:02:01.490237",
   "version": "2.4.0"
  }
 },
 "nbformat": 4,
 "nbformat_minor": 5
}
